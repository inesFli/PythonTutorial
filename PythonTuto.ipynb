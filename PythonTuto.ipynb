{
 "cells": [
  {
   "cell_type": "markdown",
   "id": "35c16207-01d4-41e6-8b15-2bc8a53c5051",
   "metadata": {},
   "source": [
    "# Python Tutorial"
   ]
  },
  {
   "cell_type": "markdown",
   "id": "fbedc6b8-9f63-4293-96ce-123a84a63b05",
   "metadata": {},
   "source": [
    "## 1.Variables"
   ]
  },
  {
   "cell_type": "markdown",
   "id": "68ce7a34-3061-4267-97e3-89bcd939c435",
   "metadata": {},
   "source": [
    "Variables are containers for storing data values in Python. Python uses a simple syntax to declare variables."
   ]
  },
  {
   "cell_type": "code",
   "execution_count": 7,
   "id": "a77c1b16-6530-48a5-abf2-cf1c3745c32d",
   "metadata": {},
   "outputs": [
    {
     "name": "stdout",
     "output_type": "stream",
     "text": [
      "5\n",
      "Hello, world!\n",
      "10\n"
     ]
    }
   ],
   "source": [
    "# Déclaration et assignation de variables\n",
    "x = 5\n",
    "y = \"Hello, world!\"\n",
    "\n",
    "# Affichage des valeurs des variables\n",
    "print(x)  # Affiche : 5\n",
    "print(y)  # Affiche : Hello, world!\n",
    "\n",
    "# Réassignation d'une variable\n",
    "x = 10\n",
    "print(x)  # Affiche : 10"
   ]
  },
  {
   "cell_type": "markdown",
   "id": "cd4ce905-f06a-497b-898e-decca9bbead7",
   "metadata": {},
   "source": [
    "## 2.Conditions"
   ]
  },
  {
   "cell_type": "markdown",
   "id": "e416198b-c3f6-4812-b2c3-0cd56919733e",
   "metadata": {},
   "source": [
    "Conditions in Python are used to perform different actions based on different conditions. Python supports the standard if statement for decision making."
   ]
  },
  {
   "cell_type": "code",
   "execution_count": 3,
   "id": "eee00d8b-e02c-4a14-aec5-206f215bf3bf",
   "metadata": {},
   "outputs": [
    {
     "name": "stdout",
     "output_type": "stream",
     "text": [
      "x is greater than 5\n",
      "x is not less than 5\n",
      "x is greater than 5\n"
     ]
    }
   ],
   "source": [
    "# Variable declaration\n",
    "x = 10\n",
    "\n",
    "# Condition with the if statement\n",
    "if x > 5:\n",
    "    print(\"x is greater than 5\")\n",
    "\n",
    "# Condition with the if-else statement\n",
    "if x < 5:\n",
    "    print(\"x is less than 5\")\n",
    "else:\n",
    "    print(\"x is not less than 5\")\n",
    "\n",
    "# Condition with the if-elif-else statement\n",
    "if x == 5:\n",
    "    print(\"x is equal to 5\")\n",
    "elif x > 5:\n",
    "    print(\"x is greater than 5\")\n",
    "else:\n",
    "    print(\"x is less than 5\")"
   ]
  },
  {
   "cell_type": "markdown",
   "id": "f2a22283-bcce-47dd-a4c5-606316e0755a",
   "metadata": {},
   "source": [
    "## 3.Loops"
   ]
  },
  {
   "cell_type": "markdown",
   "id": "e1353e25-30bb-4ec0-b5fb-03d8047efa02",
   "metadata": {},
   "source": [
    "Loops in Python are used to execute a block of code repeatedly until a certain condition is met. Python supports two main types of loops: the for loop and the while loop."
   ]
  },
  {
   "cell_type": "markdown",
   "id": "9f9338b1-263a-4ecf-bfe3-897984bb2044",
   "metadata": {},
   "source": [
    "### 3.1 The 'for' Loop"
   ]
  },
  {
   "cell_type": "markdown",
   "id": "8e03fa5e-f981-4649-be1a-aff2aeb9e36e",
   "metadata": {},
   "source": [
    "The for loop in Python is used to iterate over a sequence (such as a list, tuple, string, or range) and execute a block of code for each element in the sequence."
   ]
  },
  {
   "cell_type": "code",
   "execution_count": 1,
   "id": "22181132-1131-45cd-b5a8-9d4c983e7c80",
   "metadata": {},
   "outputs": [
    {
     "name": "stdout",
     "output_type": "stream",
     "text": [
      "apple\n",
      "banana\n",
      "cherry\n"
     ]
    }
   ],
   "source": [
    "# Iterating over a list\n",
    "fruits = [\"apple\", \"banana\", \"cherry\"]\n",
    "for fruit in fruits:\n",
    "    print(fruit)"
   ]
  },
  {
   "cell_type": "markdown",
   "id": "3193c8c9-ddcd-4d39-9f9e-9f8231e1229a",
   "metadata": {},
   "source": [
    "### 3.2 The 'while' Loop"
   ]
  },
  {
   "cell_type": "markdown",
   "id": "33ffa450-4337-41e8-a260-3a44a4a71106",
   "metadata": {},
   "source": [
    "The while loop in Python is used to execute a block of code as long as a specified condition is true."
   ]
  },
  {
   "cell_type": "code",
   "execution_count": 2,
   "id": "c9bb5bb6-4498-4568-adcc-2bc343b2f379",
   "metadata": {},
   "outputs": [
    {
     "name": "stdout",
     "output_type": "stream",
     "text": [
      "1\n",
      "2\n",
      "3\n",
      "4\n",
      "5\n"
     ]
    }
   ],
   "source": [
    "# Using a while loop to print numbers from 1 to 5\n",
    "i = 1\n",
    "while i <= 5:\n",
    "    print(i)\n",
    "    i += 1"
   ]
  },
  {
   "cell_type": "markdown",
   "id": "f3d88ed1-cd51-4cf1-856e-47aef2a75caa",
   "metadata": {},
   "source": [
    "## 4.Functions"
   ]
  },
  {
   "cell_type": "markdown",
   "id": "dc4f0f66-8a27-450d-bd02-3f8099bff147",
   "metadata": {},
   "source": [
    "Functions in Python are reusable blocks of code that perform a specific task. They help in organizing code and making it more modular and readable."
   ]
  },
  {
   "cell_type": "markdown",
   "id": "5fdfbe67-948b-4ff3-8f20-21b16f034f35",
   "metadata": {},
   "source": [
    "### 4.1 Defining a Function"
   ]
  },
  {
   "cell_type": "markdown",
   "id": "0cffa627-f248-4783-8b94-a4b3c86940aa",
   "metadata": {},
   "source": [
    "You can define a function in Python using the def keyword followed by the function name and parentheses containing any parameters the function takes. The function body is indented below the function definition."
   ]
  },
  {
   "cell_type": "code",
   "execution_count": null,
   "id": "d7cc84fa-c9ef-4535-bc78-eb1de2862008",
   "metadata": {},
   "outputs": [],
   "source": [
    "# Define a function\n",
    "def greet():\n",
    "    print(\"Hello, world!\")\n",
    "\n",
    "# Call the function\n",
    "greet()"
   ]
  },
  {
   "cell_type": "markdown",
   "id": "72027bd7-93db-4c30-8ddc-d7144ae41363",
   "metadata": {},
   "source": [
    "### 4.2 Function Parameters"
   ]
  },
  {
   "cell_type": "markdown",
   "id": "8941268c-8149-4cac-9ac7-389fdad9c598",
   "metadata": {},
   "source": [
    "Functions can take parameters, which are values passed to the function when it is called. These parameters can be used within the function to perform operations."
   ]
  },
  {
   "cell_type": "code",
   "execution_count": 9,
   "id": "ccab3c35-2516-466d-a36f-22f38f9fad52",
   "metadata": {},
   "outputs": [
    {
     "name": "stdout",
     "output_type": "stream",
     "text": [
      "Hello, Ines!\n"
     ]
    }
   ],
   "source": [
    "# Define a function with parameters\n",
    "def greet_person(name):\n",
    "    print(\"Hello, \" + name + \"!\")\n",
    "\n",
    "# Call the function with an argument\n",
    "greet_person(\"Ines\")"
   ]
  },
  {
   "cell_type": "markdown",
   "id": "0ff3f670-3b10-4f8c-b297-8c48dedd8520",
   "metadata": {},
   "source": [
    "### 4.3 Return Statement"
   ]
  },
  {
   "cell_type": "markdown",
   "id": "d778e6f7-fde9-48a7-8013-7093f864cc5d",
   "metadata": {},
   "source": [
    "Functions can return values using the return statement. This allows the function to compute a result and pass it back to the caller."
   ]
  },
  {
   "cell_type": "code",
   "execution_count": 6,
   "id": "124ad167-2347-4c62-b00d-23a7686674a1",
   "metadata": {},
   "outputs": [
    {
     "name": "stdout",
     "output_type": "stream",
     "text": [
      "8\n"
     ]
    }
   ],
   "source": [
    "# Define a function with a return statement\n",
    "def add(x, y):\n",
    "    return x + y\n",
    "\n",
    "# Call the function and store the result\n",
    "result = add(3, 5)\n",
    "print(result)  # Output: 8"
   ]
  },
  {
   "cell_type": "markdown",
   "id": "914adbd7-0ca4-469a-a130-093b86116ce2",
   "metadata": {},
   "source": [
    "## 5.Lists"
   ]
  },
  {
   "cell_type": "markdown",
   "id": "5175b2ca-c4b3-4355-9f8f-463cb6f39862",
   "metadata": {},
   "source": [
    "Lists in Python are ordered collections of items. They are mutable, meaning you can change the elements of a list after it is created."
   ]
  },
  {
   "cell_type": "code",
   "execution_count": 10,
   "id": "cfbc8db4-25f3-47f5-b180-b2e530f97f36",
   "metadata": {},
   "outputs": [
    {
     "name": "stdout",
     "output_type": "stream",
     "text": [
      "apple\n",
      "['apple', 'orange', 'cherry']\n",
      "['apple', 'orange', 'cherry', 'mango']\n",
      "['apple', 'orange', 'mango']\n"
     ]
    }
   ],
   "source": [
    "# Creating a list\n",
    "fruits = [\"apple\", \"banana\", \"cherry\"]\n",
    "\n",
    "# Accessing elements of a list\n",
    "print(fruits[0])  # Output: apple\n",
    "\n",
    "# Modifying elements of a list\n",
    "fruits[1] = \"orange\"\n",
    "print(fruits)  # Output: ['apple', 'orange', 'cherry']\n",
    "\n",
    "# Adding elements to a list\n",
    "fruits.append(\"mango\")\n",
    "print(fruits)  # Output: ['apple', 'orange', 'cherry', 'mango']\n",
    "\n",
    "# Removing elements from a list\n",
    "fruits.remove(\"cherry\")\n",
    "print(fruits)  # Output: ['apple', 'orange', 'mango']\n"
   ]
  },
  {
   "cell_type": "markdown",
   "id": "438786d2-5603-4e2d-9ff1-1f37399a5ca9",
   "metadata": {},
   "source": [
    "## 6.Tuples"
   ]
  },
  {
   "cell_type": "markdown",
   "id": "de8a220e-7954-4d6f-9743-55ffe8400965",
   "metadata": {},
   "source": [
    "Tuples are similar to lists, but they are immutable, meaning their elements cannot be changed after the tuple is created."
   ]
  },
  {
   "cell_type": "code",
   "execution_count": 13,
   "id": "17d171e0-5326-423b-84bd-8672ae868ed2",
   "metadata": {},
   "outputs": [
    {
     "name": "stdout",
     "output_type": "stream",
     "text": [
      "red\n"
     ]
    }
   ],
   "source": [
    "# Creating a tuple\n",
    "colors = (\"red\", \"green\", \"blue\")\n",
    "\n",
    "# Accessing elements of a tuple\n",
    "print(colors[0])  # Output: red\n",
    "\n",
    "# Attempting to modify a tuple (will raise an error)\n",
    "#colors[1] = \"yellow\"  # TypeError: 'tuple' object does not support item assignment"
   ]
  },
  {
   "cell_type": "markdown",
   "id": "935e8fb6-d78a-4b53-8116-535ff5963ab5",
   "metadata": {},
   "source": [
    "## 7.Dictionaries"
   ]
  },
  {
   "cell_type": "markdown",
   "id": "0352ec42-ba42-41a8-9e0d-1a8b37398784",
   "metadata": {},
   "source": [
    "Dictionaries in Python are unordered collections of key-value pairs. They are mutable, meaning you can change, add, and remove items after the dictionary is created."
   ]
  },
  {
   "cell_type": "code",
   "execution_count": 11,
   "id": "2658e07c-f882-4524-a4a7-7ef13bf4c82a",
   "metadata": {},
   "outputs": [
    {
     "name": "stdout",
     "output_type": "stream",
     "text": [
      "Ines\n",
      "{'name': 'Ines', 'age': 22, 'city': 'Constantine'}\n",
      "{'name': 'Ines', 'age': 22, 'city': 'Constantine', 'gender': 'Female'}\n",
      "{'name': 'Ines', 'age': 22, 'gender': 'Female'}\n"
     ]
    }
   ],
   "source": [
    "# Creating a dictionary\n",
    "person = {\"name\": \"Ines\", \"age\": 21, \"city\": \"Constantine\"}\n",
    "\n",
    "# Accessing elements of a dictionary\n",
    "print(person[\"name\"])  # Output: Ines\n",
    "\n",
    "# Modifying elements of a dictionary\n",
    "person[\"age\"] = 22\n",
    "print(person)  # Output: {'name': 'Ines', 'age': 22, 'city': 'Constantine'}\n",
    "\n",
    "# Adding elements to a dictionary\n",
    "person[\"gender\"] = \"Female\"\n",
    "print(person)  # Output: {'name': 'Ines', 'age': 22, 'city': 'Constantine', 'gender': 'Female'}\n",
    "\n",
    "# Removing elements from a dictionary\n",
    "del person[\"city\"]\n",
    "print(person)  # Output: {'name': 'Ines', 'age': 22, 'gender': 'Female'}\n"
   ]
  },
  {
   "cell_type": "markdown",
   "id": "d2a018d3-c81c-45af-98de-0b954059fc2b",
   "metadata": {},
   "source": [
    "## 8.Packages"
   ]
  },
  {
   "cell_type": "markdown",
   "id": "92ad6301-ad4f-44a6-8ed6-c977a42f90af",
   "metadata": {},
   "source": [
    "### 8.1 'os' Module:"
   ]
  },
  {
   "cell_type": "markdown",
   "id": "b2a04bba-d066-4d82-882d-515e98de21fc",
   "metadata": {},
   "source": [
    "The os module in Python provides functions for interacting with the operating system. It allows you to perform various operating system-related tasks, such as file and directory manipulation, environment variables, and process management."
   ]
  },
  {
   "cell_type": "markdown",
   "id": "d07e96e7-9060-4b19-b428-e1bfaf88018b",
   "metadata": {},
   "source": [
    "## 8.2 'math' Module:\n",
    "The math module provides mathematical functions and constants. It allows you to perform various mathematical operations, such as trigonometric functions, logarithmic functions, and constants like π (pi) and e."
   ]
  },
  {
   "cell_type": "markdown",
   "id": "652c4a8e-0926-4465-b392-6ba4308d6393",
   "metadata": {},
   "source": [
    "## 8.3 'random' Module:\n",
    "The random module provides functions for generating random numbers. It allows you to perform random sampling, shuffling, and generating random numbers from different distributions."
   ]
  },
  {
   "cell_type": "markdown",
   "id": "97458d93-e986-46ea-a79d-e43606ef9fe9",
   "metadata": {},
   "source": [
    "## 8.4 're' Module:\n",
    "The re module in Python provides support for working with regular expressions. Regular expressions are patterns used to match character combinations in strings."
   ]
  }
 ],
 "metadata": {
  "kernelspec": {
   "display_name": "Python 3 (ipykernel)",
   "language": "python",
   "name": "python3"
  },
  "language_info": {
   "codemirror_mode": {
    "name": "ipython",
    "version": 3
   },
   "file_extension": ".py",
   "mimetype": "text/x-python",
   "name": "python",
   "nbconvert_exporter": "python",
   "pygments_lexer": "ipython3",
   "version": "3.9.0"
  }
 },
 "nbformat": 4,
 "nbformat_minor": 5
}
